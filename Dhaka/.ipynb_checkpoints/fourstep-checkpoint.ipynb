{
 "cells": [
  {
   "cell_type": "markdown",
   "metadata": {},
   "source": [
    "# Four Step Transport Model\n",
    "Verification of: \n",
    "\"The Traditional Four Steps Transportation Modeling Using Simplified Transport Network: A Case Study of Dhaka City, Bangladesh\", \n",
    "Bayes Ahmed"
   ]
  },
  {
   "cell_type": "code",
   "execution_count": 1,
   "metadata": {},
   "outputs": [],
   "source": [
    "# Load packages\n",
    "import numpy as np\n",
    "import pandas as pd\n",
    "from sklearn.linear_model import LinearRegression"
   ]
  },
  {
   "cell_type": "markdown",
   "metadata": {},
   "source": [
    "## 3.1 Trip Generation"
   ]
  },
  {
   "cell_type": "markdown",
   "metadata": {},
   "source": [
    "### Table 1"
   ]
  },
  {
   "cell_type": "code",
   "execution_count": 2,
   "metadata": {},
   "outputs": [
    {
     "name": "stdout",
     "output_type": "stream",
     "text": [
      "              Growth Rate\n",
      "Population            4.5\n",
      "Income Level         10.0\n",
      "Land Price           10.0\n",
      "Employment            2.5\n"
     ]
    }
   ],
   "source": [
    "growth_rates = pd.read_csv('growth_rates.csv', index_col=0)\n",
    "growth_rates.at['Land Price','Growth Rate'] = 10  # there is an error in the paper\n",
    "\n",
    "print(growth_rates)"
   ]
  },
  {
   "cell_type": "markdown",
   "metadata": {},
   "source": [
    "### Tables 2 and 3"
   ]
  },
  {
   "cell_type": "code",
   "execution_count": 3,
   "metadata": {},
   "outputs": [
    {
     "name": "stdout",
     "output_type": "stream",
     "text": [
      "Existing\n",
      "         Population  Average Income  Employment  Land Price  Production Trips  \\\n",
      "Zone1       116939            1931       51200         9.5            216709   \n",
      "Zone2       473490            2133      207202        20.0            873051   \n",
      "Zone3       376925            1980      153789        16.2            697517   \n",
      "Zone4       451756            4898      200848        15.8            776774   \n",
      "Zone5       484981            4920      177655        21.9            832492   \n",
      "Zone6       284057            3753      105783        12.7            502936   \n",
      "Zone7       467491            3202      165183         8.2            840124   \n",
      "Zone8       525673            3164      201377         6.5            945303   \n",
      "Zone9       325121            5280      128368        18.4            552647   \n",
      "Zone10      193302            4735       34699         9.0            333569   \n",
      "\n",
      "        Attraction Trips  \n",
      "Zone1             179200  \n",
      "Zone2             932409  \n",
      "Zone3             538262  \n",
      "Zone4            1205088  \n",
      "Zone5             977103  \n",
      "Zone6             528915  \n",
      "Zone7             578141  \n",
      "Zone8             604131  \n",
      "Zone9             641840  \n",
      "Zone10            190845  \n",
      "\n",
      "Projected (10 years)\n",
      "         Population  Average Income  Employment  Land Price  Production Trips  \\\n",
      "Zone1     181603.0          5009.0     65540.0        25.0                 0   \n",
      "Zone2     735315.0          5532.0    265236.0        52.0                 0   \n",
      "Zone3     585353.0          5136.0    196863.0        42.0                 0   \n",
      "Zone4     701563.0         12704.0    257102.0        41.0                 0   \n",
      "Zone5     753161.0         12761.0    227413.0        57.0                 0   \n",
      "Zone6     441132.0          9734.0    135411.0        33.0                 0   \n",
      "Zone7     725999.0          8305.0    211448.0        21.0                 0   \n",
      "Zone8     816354.0          8207.0    257780.0        17.0                 0   \n",
      "Zone9     504903.0         13695.0    164322.0        48.0                 0   \n",
      "Zone10    300192.0         12281.0     44418.0        23.0                 0   \n",
      "\n",
      "        Attraction Trips  \n",
      "Zone1                  0  \n",
      "Zone2                  0  \n",
      "Zone3                  0  \n",
      "Zone4                  0  \n",
      "Zone5                  0  \n",
      "Zone6                  0  \n",
      "Zone7                  0  \n",
      "Zone8                  0  \n",
      "Zone9                  0  \n",
      "Zone10                 0  \n"
     ]
    }
   ],
   "source": [
    "existing = pd.read_csv('demographics.csv', index_col=0)\n",
    "#existing = existing.rename(columns = {\"Average Zonal Income\": \"Income\"}) # just because its a bit unweildy\n",
    "\n",
    "print(\"Existing\\n\",existing)\n",
    "\n",
    "projected = existing.copy()\n",
    "\n",
    "projected['Population'] = existing['Population'] * (1+growth_rates.at['Population','Growth Rate']/100)**10\n",
    "projected['Average Income'] = existing['Average Income'] * (1+growth_rates.at['Income Level','Growth Rate']/100)**10\n",
    "projected['Employment'] = existing['Employment'] * (1+growth_rates.at['Employment','Growth Rate']/100)**10\n",
    "projected['Land Price'] = existing['Land Price'] * (1+growth_rates.at['Land Price','Growth Rate']/100)**10\n",
    "projected['Production Trips'] = 0\n",
    "projected['Attraction Trips'] = 0\n",
    "\n",
    "print(\"\\nProjected (10 years)\\n\",np.round(projected))"
   ]
  },
  {
   "cell_type": "markdown",
   "metadata": {},
   "source": [
    "Note these are trip production and attraction estimated from demographics.\n",
    "\n",
    "Strangely there are slight differences in projected income only. Also its not clear if the author continues using floats or rounds at this point. This may explain small differences below."
   ]
  },
  {
   "cell_type": "markdown",
   "metadata": {},
   "source": [
    "### Regression Equation for Production"
   ]
  },
  {
   "cell_type": "code",
   "execution_count": 4,
   "metadata": {},
   "outputs": [
    {
     "name": "stdout",
     "output_type": "stream",
     "text": [
      "Coefficients : [  1.7967 -15.7301]\n",
      "Intercept: 49021.099\n"
     ]
    }
   ],
   "source": [
    "p_regressor = LinearRegression()\n",
    "X = existing.loc[:,'Population':'Average Income'].values\n",
    "y = existing.loc[:,'Production Trips'].values\n",
    "p_regressor.fit(X,y)\n",
    "print(\"Coefficients :\",np.round(p_regressor.coef_,4))\n",
    "print(\"Intercept:\", np.round(p_regressor.intercept_,4))\n"
   ]
  },
  {
   "cell_type": "markdown",
   "metadata": {},
   "source": [
    "### Regression Equation for Attraction"
   ]
  },
  {
   "cell_type": "code",
   "execution_count": 5,
   "metadata": {},
   "outputs": [
    {
     "name": "stdout",
     "output_type": "stream",
     "text": [
      "Coefficients : [3.68690000e+00 2.30061145e+04]\n",
      "Intercept: -206147.9217\n"
     ]
    }
   ],
   "source": [
    "a_regressor = LinearRegression()\n",
    "X = existing.loc[:,'Employment':'Land Price'].values\n",
    "y = existing.loc[:,'Attraction Trips'].values\n",
    "a_regressor.fit(X,y)\n",
    "print(\"Coefficients :\",np.round(a_regressor.coef_,4))\n",
    "print(\"Intercept:\", np.round(a_regressor.intercept_,4))\n"
   ]
  },
  {
   "cell_type": "markdown",
   "metadata": {},
   "source": [
    "### Table 4"
   ]
  },
  {
   "cell_type": "code",
   "execution_count": 6,
   "metadata": {},
   "outputs": [
    {
     "name": "stdout",
     "output_type": "stream",
     "text": [
      "Projected (10 years) - unadjusted (guestimated from demographics)\n",
      "         Production Trips  Attraction Trips\n",
      "Zone1           296513.0          602379.0\n",
      "Zone2          1283100.0         1965202.0\n",
      "Zone3          1019912.0         1486360.0\n",
      "Zone4          1109648.0         1684591.0\n",
      "Zone5          1201453.0         1939128.0\n",
      "Zone6           688459.0         1050939.0\n",
      "Zone7          1222747.0         1062760.0\n",
      "Zone8          1386634.0         1132139.0\n",
      "Zone9           740732.0         1497662.0\n",
      "Zone10          395174.0          494665.0\n"
     ]
    }
   ],
   "source": [
    "projected_trips = projected.loc[:,'Production Trips':'Attraction Trips']\n",
    "\n",
    "X = projected.loc[:,'Population':'Average Income'].values\n",
    "projected_trips.loc[:,'Production Trips'] = p_regressor.predict(X)\n",
    "\n",
    "X = projected.loc[:,'Employment':'Land Price'].values\n",
    "projected_trips.loc[:,'Attraction Trips'] = a_regressor.predict(X)\n",
    "\n",
    "print(\"Projected (10 years) - unadjusted (guestimated from demographics)\\n\",round(projected_trips))\n"
   ]
  },
  {
   "cell_type": "markdown",
   "metadata": {},
   "source": [
    "## 3.2 Trip Distribution"
   ]
  },
  {
   "cell_type": "markdown",
   "metadata": {},
   "source": [
    "### Table 6"
   ]
  },
  {
   "cell_type": "code",
   "execution_count": 7,
   "metadata": {},
   "outputs": [
    {
     "name": "stdout",
     "output_type": "stream",
     "text": [
      "Adjustment factor: 0.723\n",
      "\n",
      "Projected (10 years) (from demographics and linear regression)\n",
      "         Production Trips  Attraction Trips\n",
      "Zone1           296513.0          435811.0\n",
      "Zone2          1283100.0         1421789.0\n",
      "Zone3          1019912.0         1075356.0\n",
      "Zone4          1109648.0         1218772.0\n",
      "Zone5          1201453.0         1402925.0\n",
      "Zone6           688459.0          760336.0\n",
      "Zone7          1222747.0          768888.0\n",
      "Zone8          1386634.0          819083.0\n",
      "Zone9           740732.0         1083532.0\n",
      "Zone10          395174.0          357881.0\n"
     ]
    }
   ],
   "source": [
    "adjustment_factor = np.sum(projected_trips.loc[:,'Production Trips'])/np.sum(projected_trips.loc[:,'Attraction Trips'])\n",
    "print('Adjustment factor:', np.round(adjustment_factor,3))\n",
    "\n",
    "projected_trips.loc[:,'Attraction Trips'] = projected_trips.loc[:,'Attraction Trips'] * adjustment_factor\n",
    "print(\"\\nProjected (10 years) (from demographics and linear regression)\\n\",round(projected_trips))\n"
   ]
  },
  {
   "cell_type": "markdown",
   "metadata": {},
   "source": [
    "These form the target values for each zone for production and attraction.\n",
    "\n",
    "Now we will use impedances to estimate how many trips are between each pair of zones."
   ]
  },
  {
   "cell_type": "markdown",
   "metadata": {},
   "source": [
    "### Table 7"
   ]
  },
  {
   "cell_type": "code",
   "execution_count": 8,
   "metadata": {},
   "outputs": [
    {
     "name": "stdout",
     "output_type": "stream",
     "text": [
      "[[ 8. 10. 20. 15. 25. 22. 28. 30. 25. 35.]\n",
      " [10.  8. 12. 15. 20. 17. 25. 26. 22. 32.]\n",
      " [20. 12.  8. 20. 12. 12. 15. 25. 23. 30.]\n",
      " [15. 15. 20.  8. 12. 15. 20. 22. 12. 20.]\n",
      " [26. 20. 10. 12.  8. 10. 15. 17. 15. 22.]\n",
      " [22. 17. 12. 15. 10.  8.  9. 12. 10. 20.]\n",
      " [28. 25. 15. 20. 15.  9.  8. 10. 11. 17.]\n",
      " [30. 26. 25. 22. 17. 12. 10.  8.  9. 15.]\n",
      " [25. 22. 23. 12. 15. 10. 11.  9.  8. 18.]\n",
      " [15. 32. 30. 20. 22. 20. 17. 15. 18.  8.]]\n"
     ]
    }
   ],
   "source": [
    "cost_matrix = np.genfromtxt('cost_matrix.csv', delimiter=',')\n",
    "print(cost_matrix)\n"
   ]
  },
  {
   "cell_type": "markdown",
   "metadata": {},
   "source": [
    "I thought the cost matrix was symmetric but its not. This looks like it might be an error in the paper (eg. the 15 in Zone 10 to Zone 1). However they use it going forward, so we do too."
   ]
  },
  {
   "cell_type": "markdown",
   "metadata": {},
   "source": [
    "### Table 8"
   ]
  },
  {
   "cell_type": "code",
   "execution_count": 9,
   "metadata": {},
   "outputs": [
    {
     "name": "stdout",
     "output_type": "stream",
     "text": [
      "[[0.449 0.368 0.135 0.223 0.082 0.111 0.061 0.05  0.082 0.03 ]\n",
      " [0.368 0.449 0.301 0.223 0.135 0.183 0.082 0.074 0.111 0.041]\n",
      " [0.135 0.301 0.449 0.135 0.301 0.301 0.223 0.082 0.1   0.05 ]\n",
      " [0.223 0.223 0.135 0.449 0.301 0.223 0.135 0.111 0.301 0.135]\n",
      " [0.074 0.135 0.368 0.301 0.449 0.368 0.223 0.183 0.223 0.111]\n",
      " [0.111 0.183 0.301 0.223 0.368 0.449 0.407 0.301 0.368 0.135]\n",
      " [0.061 0.082 0.223 0.135 0.223 0.407 0.449 0.368 0.333 0.183]\n",
      " [0.05  0.074 0.082 0.111 0.183 0.301 0.368 0.449 0.407 0.223]\n",
      " [0.082 0.111 0.1   0.301 0.223 0.368 0.333 0.407 0.449 0.165]\n",
      " [0.223 0.041 0.05  0.135 0.111 0.135 0.183 0.223 0.165 0.449]]\n"
     ]
    }
   ],
   "source": [
    "beta = 0.1 # assumed in the paper\n",
    "impedance_matrix = np.exp(-1*beta*cost_matrix)\n",
    "print(np.round(impedance_matrix,3))"
   ]
  },
  {
   "cell_type": "markdown",
   "metadata": {},
   "source": [
    "I don't yet know where the above impedance formula comes from. But it seems we are going to use the relative impedence to distribute the total projected trips between zone pairs..."
   ]
  },
  {
   "cell_type": "markdown",
   "metadata": {},
   "source": [
    "### Table 9"
   ]
  },
  {
   "cell_type": "code",
   "execution_count": 10,
   "metadata": {},
   "outputs": [
    {
     "name": "stdout",
     "output_type": "stream",
     "text": [
      "Sum of impedence factor: 22.123885340388867\n",
      "Total trips (from production trips projection): 9344373.0\n",
      "\n",
      "Unadjusted trip distribution:\n",
      "[[189781. 155380.  57161.  94243.  34670.  46799.  25684.  21028.  34670.\n",
      "   12754.]\n",
      " [155380. 189781. 127214.  94243.  57161.  77159.  34670.  31371.  46799.\n",
      "   17217.]\n",
      " [ 57161. 127214. 189781.  57161. 127214. 127214.  94243.  34670.  42346.\n",
      "   21028.]\n",
      " [ 94243.  94243.  57161. 189781. 127214.  94243.  57161.  46799. 127214.\n",
      "   57161.]\n",
      " [ 31371.  57161. 155380. 127214. 189781. 155380.  94243.  77159.  94243.\n",
      "   46799.]\n",
      " [ 46799.  77159. 127214.  94243. 155380. 189781. 171721. 127214. 155380.\n",
      "   57161.]\n",
      " [ 25684.  34670.  94243.  57161.  94243. 171721. 189781. 155380. 140593.\n",
      "   77159.]\n",
      " [ 21028.  31371.  34670.  46799.  77159. 127214. 155380. 189781. 171721.\n",
      "   94243.]\n",
      " [ 34670.  46799.  42346. 127214.  94243. 155380. 140593. 171721. 189781.\n",
      "   69817.]\n",
      " [ 94243.  17217.  21028.  57161.  46799.  57161.  77159.  94243.  69817.\n",
      "  189781.]]\n"
     ]
    }
   ],
   "source": [
    "sum_impedence = np.sum(impedance_matrix)\n",
    "print(\"Sum of impedence factor:\", sum_impedence)\n",
    "\n",
    "total_trips = np.sum(projected_trips.loc[:,'Production Trips'].values)\n",
    "print(\"Total trips (from production trips projection):\", np.round(total_trips))\n",
    "\n",
    "trip_distribution = impedance_matrix/sum_impedence * total_trips\n",
    "print(\"\\nUnadjusted trip distribution:\")\n",
    "print(np.round(trip_distribution,0))\n"
   ]
  },
  {
   "cell_type": "markdown",
   "metadata": {},
   "source": [
    "This seems to be _total_ projected trips shared out (weighted) according impedance factor.\n",
    "\n",
    "Adding these up, we have trips per zone from impedance scores, and trips per zone predicted from demographics, and they are different..."
   ]
  },
  {
   "cell_type": "code",
   "execution_count": 11,
   "metadata": {},
   "outputs": [
    {
     "name": "stdout",
     "output_type": "stream",
     "text": [
      "\n",
      "Sum of origin trips per zone (Table 9 RH column):\n",
      "[ 672171.  830994.  878032.  945220. 1028730. 1202052. 1040635.  949366.\n",
      " 1072564.  724609.]\n",
      "\n",
      "Sum of destination trips per zone (Table 9 bottom row):\n",
      "[ 750359.  830994.  906198.  945220. 1003864. 1202052. 1040635.  949366.\n",
      " 1072564.  643120.]\n",
      "\n",
      "This is compared with (from Table 6):\n",
      "\n",
      "Projected (10 years)\n",
      "         Production Trips  Attraction Trips\n",
      "Zone1           296513.0          435811.0\n",
      "Zone2          1283100.0         1421789.0\n",
      "Zone3          1019912.0         1075356.0\n",
      "Zone4          1109648.0         1218772.0\n",
      "Zone5          1201453.0         1402925.0\n",
      "Zone6           688459.0          760336.0\n",
      "Zone7          1222747.0          768888.0\n",
      "Zone8          1386634.0          819083.0\n",
      "Zone9           740732.0         1083532.0\n",
      "Zone10          395174.0          357881.0\n"
     ]
    }
   ],
   "source": [
    "\n",
    "print(\"\\nSum of origin trips per zone (Table 9 RH column):\")\n",
    "print(np.round(np.sum(trip_distribution,axis=-1)))\n",
    "\n",
    "print(\"\\nSum of destination trips per zone (Table 9 bottom row):\")\n",
    "print(np.round(np.sum(trip_distribution,axis=0)))\n",
    "\n",
    "print(\"\\nThis is compared with (from Table 6):\")\n",
    "print(\"\\nProjected (10 years)\\n\",round(projected_trips))\n"
   ]
  },
  {
   "cell_type": "markdown",
   "metadata": {},
   "source": [
    "The author says there are \"huge differences than what it should be\", \"although it is found that total trips is the same\". This is because the trips per zone are generated from the total predicted trips! So of course they are the same.\n",
    "\n",
    "Now it goes on to do some completely unmotivated iterative adjustment..."
   ]
  },
  {
   "cell_type": "markdown",
   "metadata": {},
   "source": [
    "### Table 10 and Appendix H (Magic C program)"
   ]
  },
  {
   "cell_type": "code",
   "execution_count": 12,
   "metadata": {},
   "outputs": [
    {
     "name": "stdout",
     "output_type": "stream",
     "text": [
      "Max difference:\t 513593.06216008344\n",
      "Max difference:\t 130230.9492308402\n",
      "Max difference:\t 26620.76973456028\n",
      "Max difference:\t 5150.833977228031\n",
      "Max difference:\t 966.6743379291147\n",
      "Max difference:\t 180.01041116425768\n",
      "Max difference:\t 33.45169502333738\n",
      "Max difference:\t 6.212887087604031\n",
      "Max difference:\t 1.1537191374227405\n",
      "Max difference:\t 0.2142333670053631\n",
      "\n",
      "Table 10:\n",
      " [[ 49417. 109024.  26365.  50324.  19126.  11579.   7311.   6888.  13580.\n",
      "    2899.]\n",
      " [138201. 454857. 200430. 171896. 107712.  65210.  33710.  35100.  62616.\n",
      "   13367.]\n",
      " [ 39594. 237446. 232857.  81195. 186684.  83728.  71361.  30210.  44123.\n",
      "   12715.]\n",
      " [ 67022. 180603.  72008. 276775. 191670.  63684.  44439.  41868. 136093.\n",
      "   35486.]\n",
      " [ 22788. 111891. 199938. 189508. 292072. 107249.  74838.  70509. 102983.\n",
      "   29677.]\n",
      " [ 17759.  78901.  85513.  73339. 124919.  68431.  71236.  60728.  88697.\n",
      "   18935.]\n",
      " [ 21691.  78898. 140983.  98994. 168617. 137798. 175206. 165071. 178608.\n",
      "   56883.]\n",
      " [ 22491.  90412.  65684. 102646. 174837. 129284. 181669. 255340. 276280.\n",
      "   87989.]\n",
      " [ 16461.  59876.  35615. 123864.  94798.  70099.  72972. 102565. 135546.\n",
      "   28937.]\n",
      " [ 40386.  19881.  15962.  50232.  42488.  23275.  36146.  50804.  45006.\n",
      "   70994.]]\n"
     ]
    }
   ],
   "source": [
    "# My version\n",
    "\n",
    "trip_dist = np.copy(trip_distribution)\n",
    "(h,w) = trip_dist.shape\n",
    "\n",
    "origin_totals = np.asmatrix(projected_trips.loc[:,'Production Trips'].values).T\n",
    "destination_totals = np.asmatrix(projected_trips.loc[:,'Attraction Trips'].values)\n",
    "    \n",
    "column_ratios = np.ones((1,w))\n",
    "row_totals = trip_dist @ column_ratios.T \n",
    "print(\"Max difference:\\t\",np.max(np.absolute(origin_totals-row_totals)))\n",
    "\n",
    "while np.max(np.absolute(origin_totals-row_totals))>1 : \n",
    "    row_ratios = np.divide(origin_totals, row_totals)\n",
    "    trip_dist = np.multiply(trip_dist, row_ratios) \n",
    "\n",
    "    column_totals = np.sum(trip_dist, axis=0)\n",
    "    column_ratios = np.divide(destination_totals, column_totals)\n",
    "    trip_dist = np.multiply(trip_dist,column_ratios)\n",
    "\n",
    "    row_totals = np.sum(trip_dist, axis=1)\n",
    "    print(\"Max difference:\\t\",np.max(np.absolute(origin_totals-row_totals)))\n",
    "\n",
    "print(\"\\nTable 10:\\n\",np.round(trip_dist,0))\n"
   ]
  },
  {
   "cell_type": "markdown",
   "metadata": {},
   "source": [
    "## 3.3 Modal Split"
   ]
  },
  {
   "cell_type": "markdown",
   "metadata": {},
   "source": [
    "### Tables 11-13"
   ]
  },
  {
   "cell_type": "code",
   "execution_count": 13,
   "metadata": {},
   "outputs": [
    {
     "name": "stdout",
     "output_type": "stream",
     "text": [
      "Car:\n",
      " [[-1.528  -1.91   -3.82   -2.865  -4.775  -4.202  -5.3479 -5.7299 -4.775\n",
      "  -6.6849]\n",
      " [-1.91   -1.528  -2.292  -2.865  -3.82   -3.247  -4.775  -4.9659 -4.202\n",
      "  -6.1119]\n",
      " [-3.82   -2.292  -1.528  -3.82   -2.292  -2.292  -2.865  -4.775  -4.393\n",
      "  -5.7299]\n",
      " [-2.865  -2.865  -3.82   -1.528  -2.292  -2.865  -3.82   -4.202  -2.292\n",
      "  -3.82  ]\n",
      " [-4.9659 -3.82   -1.91   -2.292  -1.528  -1.91   -2.865  -3.247  -2.865\n",
      "  -4.202 ]\n",
      " [-4.202  -3.247  -2.292  -2.865  -1.91   -1.528  -1.719  -2.292  -1.91\n",
      "  -3.82  ]\n",
      " [-5.3479 -4.775  -2.865  -3.82   -2.865  -1.719  -1.528  -1.91   -2.101\n",
      "  -3.247 ]\n",
      " [-5.7299 -4.9659 -4.775  -4.202  -3.247  -2.292  -1.91   -1.528  -1.719\n",
      "  -2.865 ]\n",
      " [-4.775  -4.202  -4.393  -2.292  -2.865  -1.91   -2.101  -1.719  -1.528\n",
      "  -3.438 ]\n",
      " [-2.865  -6.1119 -5.7299 -3.82   -4.202  -3.82   -3.247  -2.865  -3.438\n",
      "  -1.528 ]]\n",
      "Bus:\n",
      " [[-0.1246 -0.3921 -1.7298 -1.061  -2.3986 -1.9973 -2.7999 -3.0674 -2.3986\n",
      "  -3.7363]\n",
      " [-0.3921 -0.1246 -0.6597 -1.061  -1.7298 -1.3285 -2.3986 -2.5324 -1.9973\n",
      "  -3.335 ]\n",
      " [-1.7298 -0.6597 -0.1246 -1.7298 -0.6597 -0.6597 -1.061  -2.3986 -2.1311\n",
      "  -3.0674]\n",
      " [-1.061  -1.061  -1.7298 -0.1246 -0.6597 -1.061  -1.7298 -1.9973 -0.6597\n",
      "  -1.7298]\n",
      " [-2.5324 -1.7298 -0.3921 -0.6597 -0.1246 -0.3921 -1.061  -1.3285 -1.061\n",
      "  -1.9973]\n",
      " [-1.9973 -1.3285 -0.6597 -1.061  -0.3921 -0.1246 -0.2584 -0.6597 -0.3921\n",
      "  -1.7298]\n",
      " [-2.7999 -2.3986 -1.061  -1.7298 -1.061  -0.2584 -0.1246 -0.3921 -0.5259\n",
      "  -1.3285]\n",
      " [-3.0674 -2.5324 -2.3986 -1.9973 -1.3285 -0.6597 -0.3921 -0.1246 -0.2584\n",
      "  -1.061 ]\n",
      " [-2.3986 -1.9973 -2.1311 -0.6597 -1.061  -0.3921 -0.5259 -0.2584 -0.1246\n",
      "  -1.4623]\n",
      " [-1.061  -3.335  -3.0674 -1.7298 -1.9973 -1.7298 -1.3285 -1.061  -1.4623\n",
      "  -0.1246]]\n",
      "Rickshaw:\n",
      " [[-0.2529 -0.6242 -2.4806 -1.5524 -3.4087 -2.8518 -3.9656 -4.3369 -3.4087\n",
      "  -5.2651]\n",
      " [-0.6242 -0.2529 -0.9955 -1.5524 -2.4806 -1.9236 -3.4087 -3.5944 -2.8518\n",
      "  -4.7082]\n",
      " [-2.4806 -0.9955 -0.2529 -2.4806 -0.9955 -0.9955 -1.5524 -3.4087 -3.0375\n",
      "  -4.3369]\n",
      " [-1.5524 -1.5524 -2.4806 -0.2529 -0.9955 -1.5524 -2.4806 -2.8518 -0.9955\n",
      "  -2.4806]\n",
      " [-3.5944 -2.4806 -0.6242 -0.9955 -0.2529 -0.6242 -1.5524 -1.9236 -1.5524\n",
      "  -2.8518]\n",
      " [-2.8518 -1.9236 -0.9955 -1.5524 -0.6242 -0.2529 -0.4386 -0.9955 -0.6242\n",
      "  -2.4806]\n",
      " [-3.9656 -3.4087 -1.5524 -2.4806 -1.5524 -0.4386 -0.2529 -0.6242 -0.8098\n",
      "  -1.9236]\n",
      " [-4.3369 -3.5944 -3.4087 -2.8518 -1.9236 -0.9955 -0.6242 -0.2529 -0.4386\n",
      "  -1.5524]\n",
      " [-3.4087 -2.8518 -3.0375 -0.9955 -1.5524 -0.6242 -0.8098 -0.4386 -0.2529\n",
      "  -2.1093]\n",
      " [-1.5524 -4.7082 -4.3369 -2.4806 -2.8518 -2.4806 -1.9236 -1.5524 -2.1093\n",
      "  -0.2529]]\n"
     ]
    }
   ],
   "source": [
    "utility_car = np.genfromtxt('utility_car.txt', delimiter=' ').T\n",
    "print(\"Car:\\n\",utility_car)\n",
    "\n",
    "utility_bus = np.genfromtxt('utility_bus.txt', delimiter=' ').T\n",
    "print(\"Bus:\\n\",utility_bus)\n",
    "\n",
    "utility_rickshaw = np.genfromtxt('utility_rickshaw.txt', delimiter=' ').T\n",
    "print(\"Rickshaw:\\n\",utility_rickshaw)\n"
   ]
  },
  {
   "cell_type": "markdown",
   "metadata": {},
   "source": [
    "### Tables 14 to 16"
   ]
  },
  {
   "cell_type": "code",
   "execution_count": 14,
   "metadata": {},
   "outputs": [
    {
     "name": "stdout",
     "output_type": "stream",
     "text": [
      "Probability car:\n",
      " [[0.1156 0.1089 0.0775 0.0927 0.0637 0.0718 0.0563 0.0517 0.0637 0.0413]\n",
      " [0.1089 0.1156 0.1023 0.0927 0.0775 0.0865 0.0637 0.0612 0.0718 0.0473]\n",
      " [0.0775 0.1023 0.1156 0.0775 0.1023 0.1023 0.0927 0.0637 0.0691 0.0517]\n",
      " [0.0927 0.0927 0.0775 0.1156 0.1023 0.0927 0.0775 0.0718 0.1023 0.0775]\n",
      " [0.0612 0.0775 0.1089 0.1023 0.1156 0.1089 0.0927 0.0865 0.0927 0.0718]\n",
      " [0.0718 0.0865 0.1023 0.0927 0.1089 0.1156 0.1123 0.1023 0.1089 0.0775]\n",
      " [0.0563 0.0637 0.0927 0.0775 0.0927 0.1123 0.1156 0.1089 0.1056 0.0865]\n",
      " [0.0517 0.0612 0.0637 0.0718 0.0865 0.1023 0.1089 0.1156 0.1123 0.0927]\n",
      " [0.0637 0.0718 0.0691 0.1023 0.0927 0.1089 0.1056 0.1123 0.1156 0.0834]\n",
      " [0.0927 0.0473 0.0517 0.0775 0.0718 0.0775 0.0865 0.0927 0.0834 0.1156]]\n",
      "\n",
      "Probability bus:\n",
      " [[0.4705 0.497  0.6267 0.5629 0.6863 0.6511 0.7195 0.7403 0.6863 0.7879]\n",
      " [0.497  0.4705 0.5235 0.5629 0.6267 0.5888 0.6863 0.6976 0.6511 0.7602]\n",
      " [0.6267 0.5235 0.4705 0.6267 0.5235 0.5235 0.5629 0.6863 0.6631 0.7403]\n",
      " [0.5629 0.5629 0.6267 0.4705 0.5235 0.5629 0.6267 0.6511 0.5235 0.6267]\n",
      " [0.6976 0.6267 0.497  0.5235 0.4705 0.497  0.5629 0.5888 0.5629 0.6511]\n",
      " [0.6511 0.5888 0.5235 0.5629 0.497  0.4705 0.4837 0.5235 0.497  0.6267]\n",
      " [0.7195 0.6863 0.5629 0.6267 0.5629 0.4837 0.4705 0.497  0.5102 0.5888]\n",
      " [0.7403 0.6976 0.6863 0.6511 0.5888 0.5235 0.497  0.4705 0.4837 0.5629]\n",
      " [0.6863 0.6511 0.6631 0.5235 0.5629 0.497  0.5102 0.4837 0.4705 0.6016]\n",
      " [0.5629 0.7602 0.7403 0.6267 0.6511 0.6267 0.5888 0.5629 0.6016 0.4705]]\n",
      "\n",
      "Probability rickshaw:\n",
      " [[0.4139 0.3941 0.2958 0.3444 0.2499 0.2771 0.2243 0.208  0.2499 0.1708]\n",
      " [0.3941 0.4139 0.3742 0.3444 0.2958 0.3247 0.2499 0.2412 0.2771 0.1925]\n",
      " [0.2958 0.3742 0.4139 0.2958 0.3742 0.3742 0.3444 0.2499 0.2679 0.208 ]\n",
      " [0.3444 0.3444 0.2958 0.4139 0.3742 0.3444 0.2958 0.2771 0.3742 0.2958]\n",
      " [0.2412 0.2958 0.3941 0.3742 0.4139 0.3941 0.3444 0.3247 0.3444 0.2771]\n",
      " [0.2771 0.3247 0.3742 0.3444 0.3941 0.4139 0.404  0.3742 0.3941 0.2958]\n",
      " [0.2243 0.2499 0.3444 0.2958 0.3444 0.404  0.4139 0.3941 0.3841 0.3247]\n",
      " [0.208  0.2412 0.2499 0.2771 0.3247 0.3742 0.3941 0.4139 0.404  0.3444]\n",
      " [0.2499 0.2771 0.2679 0.3742 0.3444 0.3941 0.3841 0.404  0.4139 0.315 ]\n",
      " [0.3444 0.1925 0.208  0.2958 0.2771 0.2958 0.3247 0.3444 0.315  0.4139]]\n"
     ]
    }
   ],
   "source": [
    "e_car = np.exp(utility_car)\n",
    "e_bus = np.exp(utility_bus)\n",
    "e_rickshaw = np.exp(utility_rickshaw)\n",
    "e_sum = e_car + e_bus + e_rickshaw\n",
    "\n",
    "prob_car = e_car/e_sum\n",
    "prob_bus = e_bus/e_sum\n",
    "prob_rickshaw = e_rickshaw/e_sum\n",
    "\n",
    "print(\"Probability car:\\n\", np.round(prob_car,4))\n",
    "print(\"\\nProbability bus:\\n\", np.round(prob_bus,4))\n",
    "print(\"\\nProbability rickshaw:\\n\", np.round(prob_rickshaw,4))\n",
    "#print(\"Check:\", prob_car + prob_bus + prob_rickshaw)\n"
   ]
  },
  {
   "cell_type": "markdown",
   "metadata": {},
   "source": [
    "### Tables 17-19"
   ]
  },
  {
   "cell_type": "code",
   "execution_count": 15,
   "metadata": {},
   "outputs": [
    {
     "name": "stdout",
     "output_type": "stream",
     "text": [
      "Modal share car:\n",
      " [[ 5714. 11876.  2043.  4664.  1219.   831.   412.   356.   866.   120.]\n",
      " [15054. 52596. 20510. 15931.  8348.  5638.  2149.  2148.  4496.   632.]\n",
      " [ 3068. 24298. 26926.  6293. 19104.  8568.  6614.  1926.  3047.   657.]\n",
      " [ 6212. 16738.  5581. 32004. 19614.  5902.  3444.  3007. 13927.  2750.]\n",
      " [ 1395.  8671. 21779. 19393. 33773. 11683.  6936.  6096.  9545.  2131.]\n",
      " [ 1275.  6821.  8751.  6797. 13607.  7913.  7998.  6214.  9662.  1467.]\n",
      " [ 1221.  5030. 13066.  7672. 15628. 15471. 20260. 17981. 18864.  4918.]\n",
      " [ 1162.  5533.  4187.  7371. 15115. 13230. 19789. 29526. 31020.  8155.]\n",
      " [ 1049.  4300.  2460. 12675.  8786.  7636.  7707. 11516. 15674.  2414.]\n",
      " [ 3743.   940.   825.  3893.  3051.  1804.  3125.  4709.  3754.  8209.]]\n",
      "\n",
      "Modal share bus:\n",
      " [[ 23251.  54186.  16523.  28329.  13126.   7540.   5260.   5099.   9320.\n",
      "    2284.]\n",
      " [ 68687. 214015. 104924.  96766.  67503.  38397.  23135.  24486.  40772.\n",
      "   10161.]\n",
      " [ 24813. 124302. 109562.  50885.  97728.  43831.  40171.  20733.  29257.\n",
      "    9413.]\n",
      " [ 37729. 101667.  45128. 130226. 100338.  35850.  27850.  27262.  71244.\n",
      "   22239.]\n",
      " [ 15897.  70122.  99371.  99206. 137423.  53304.  42129.  41517.  57972.\n",
      "   19323.]\n",
      " [ 11564.  46458.  44766.  41285.  62086.  32197.  34460.  31791.  44083.\n",
      "   11867.]\n",
      " [ 15605.  54148.  79364.  62040.  94920.  66659.  82436.  82041.  91134.\n",
      "   33493.]\n",
      " [ 16651.  63071.  45080.  66836. 102946.  67679.  90291. 120140. 133650.\n",
      "   49532.]\n",
      " [ 11297.  38987.  23615.  64842.  53365.  34840.  37234.  49615.  63776.\n",
      "   17408.]\n",
      " [ 22735.  15112.  11817.  31481.  27666.  14587.  21283.  28599.  27075.\n",
      "   33403.]]\n",
      "\n",
      "Modal share rickshaw:\n",
      " [[ 20452.  42962.   7799.  17331.   4780.   3208.   1640.   1433.   3394.\n",
      "     495.]\n",
      " [ 54460. 188246.  74996.  59199.  31861.  21176.   8426.   8466.  17348.\n",
      "    2574.]\n",
      " [ 11712.  88847.  96369.  24017.  69853.  31329.  24576.   7551.  11819.\n",
      "    2645.]\n",
      " [ 23082.  62197.  21300. 114545.  71718.  21932.  13145.  11600.  50923.\n",
      "   10497.]\n",
      " [  5497.  33097.  78788.  70909. 120876.  42263.  25773.  22897.  35466.\n",
      "    8222.]\n",
      " [  4920.  25622.  31997.  25257.  49226.  28320.  28778.  22723.  34952.\n",
      "    5601.]\n",
      " [  4864.  19720.  48552.  29282.  58069.  55667.  72510.  65048.  68610.\n",
      "   18472.]\n",
      " [  4678.  21808.  16417.  28439.  56776.  48375.  71589. 105674. 111611.\n",
      "   30302.]\n",
      " [  4114.  16589.   9540.  46347.  32647.  27623.  28031.  41434.  56097.\n",
      "    9115.]\n",
      " [ 13908.   3828.   3320.  14859.  11772.   6885.  11738.  17496.  14177.\n",
      "   29381.]]\n"
     ]
    }
   ],
   "source": [
    "car_share = np.multiply(trip_dist, prob_car)\n",
    "print(\"Modal share car:\\n\", np.round(car_share))\n",
    "\n",
    "bus_share = np.multiply(trip_dist, prob_bus)\n",
    "print(\"\\nModal share bus:\\n\", np.round(bus_share))\n",
    "\n",
    "rickshaw_share = np.multiply(trip_dist, prob_rickshaw)\n",
    "print(\"\\nModal share rickshaw:\\n\", np.round(rickshaw_share))\n"
   ]
  },
  {
   "cell_type": "markdown",
   "metadata": {},
   "source": [
    "## 3.4 Trip Assignment"
   ]
  },
  {
   "cell_type": "markdown",
   "metadata": {},
   "source": [
    "NB: The graphs (Figure 2), code output (Appendix K), and table (Appendix I) do not seem to be consistent. \n",
    "\n",
    "For example, the GTC values for nodes 1-5 in the graph match the code output (for the car) but not the table (where they appear to match nodes 1-9). On the other hand, the reverse direction (5-1) in the table appears correct. For the sake of verification we have tried to use the values in the code, which mostly match those in the graphs.\n",
    "\n",
    "The exception is 4-6 where the code output matches the table not the graphs. So we have used the table values. \n"
   ]
  },
  {
   "cell_type": "code",
   "execution_count": 16,
   "metadata": {},
   "outputs": [
    {
     "name": "stdout",
     "output_type": "stream",
     "text": [
      "GTC matrix:\n",
      " [[  1.   2.  44.  31.  42.]\n",
      " [  1.   4.  66.  46.  64.]\n",
      " [  1.   5. 109.  77. 106.]\n",
      " [  2.   3.  52.  37.  51.]\n",
      " [  2.   5.  87.  61.  85.]\n",
      " [  3.   5.  52.  37.  51.]\n",
      " [  3.   6.  52.  37.  51.]\n",
      " [  4.   5.  52.  37.  51.]\n",
      " [  4.   6.  66.  46.  64.]\n",
      " [  4.   9.  52.  37.  51.]\n",
      " [  4.  10.  87.  61.  85.]\n",
      " [  5.   6.  44.  31.  42.]\n",
      " [  6.   7.  39.  28.  38.]\n",
      " [  6.   8.  52.  37.  51.]\n",
      " [  6.   9.  44.  31.  42.]\n",
      " [  7.   8.  44.  31.  42.]\n",
      " [  8.   9.  39.  28.  38.]\n",
      " [  8.  10.  66.  46.  64.]\n",
      " [  9.  10.  79.  55.  76.]]\n"
     ]
    }
   ],
   "source": [
    "gtc_matrix = np.genfromtxt('GTC_graphs.txt', delimiter=' ')\n",
    "print(\"GTC matrix:\\n\",gtc_matrix)\n"
   ]
  },
  {
   "cell_type": "code",
   "execution_count": 17,
   "metadata": {},
   "outputs": [
    {
     "name": "stdout",
     "output_type": "stream",
     "text": [
      "  (1, 2)\t44.0\n",
      "  (1, 4)\t66.0\n",
      "  (1, 5)\t109.0\n",
      "  (2, 1)\t44.0\n",
      "  (2, 3)\t52.0\n",
      "  (2, 5)\t87.0\n",
      "  (3, 2)\t52.0\n",
      "  (3, 5)\t52.0\n",
      "  (3, 6)\t52.0\n",
      "  (4, 1)\t66.0\n",
      "  (4, 5)\t52.0\n",
      "  (4, 6)\t66.0\n",
      "  (4, 9)\t52.0\n",
      "  (4, 10)\t87.0\n",
      "  (5, 1)\t109.0\n",
      "  (5, 2)\t87.0\n",
      "  (5, 3)\t52.0\n",
      "  (5, 4)\t52.0\n",
      "  (5, 6)\t44.0\n",
      "  (6, 3)\t52.0\n",
      "  (6, 4)\t66.0\n",
      "  (6, 5)\t44.0\n",
      "  (6, 7)\t39.0\n",
      "  (6, 8)\t52.0\n",
      "  (6, 9)\t44.0\n",
      "  (7, 6)\t39.0\n",
      "  (7, 8)\t44.0\n",
      "  (8, 6)\t52.0\n",
      "  (8, 7)\t44.0\n",
      "  (8, 9)\t39.0\n",
      "  (8, 10)\t66.0\n",
      "  (9, 4)\t52.0\n",
      "  (9, 6)\t44.0\n",
      "  (9, 8)\t39.0\n",
      "  (9, 10)\t79.0\n",
      "  (10, 4)\t87.0\n",
      "  (10, 8)\t66.0\n",
      "  (10, 9)\t79.0\n"
     ]
    }
   ],
   "source": [
    "from scipy.sparse import csr_matrix, csgraph\n",
    "row = np.array(gtc_matrix[:,0])\n",
    "column = np.array(gtc_matrix[:,1])\n",
    "car_data = np.array(gtc_matrix[:,2])\n",
    "car_graph = csr_matrix((car_data, (row, column)), shape=(11,11)) # use 11 to preserve node numbering\n",
    "car_graph = car_graph + car_graph.T # reflect to make symmetric\n",
    "#print(car_graph.toarray())\n",
    "print(car_graph)"
   ]
  },
  {
   "cell_type": "markdown",
   "metadata": {},
   "source": [
    "### Appendix K"
   ]
  },
  {
   "cell_type": "code",
   "execution_count": 18,
   "metadata": {},
   "outputs": [
    {
     "name": "stdout",
     "output_type": "stream",
     "text": [
      "Shortest paths between nodes:\n",
      " [[  0.  inf  inf  inf  inf  inf  inf  inf  inf  inf  inf]\n",
      " [ inf   0.  44.  96.  66. 109. 132. 171. 157. 118. 153.]\n",
      " [ inf  44.   0.  52. 110.  87. 104. 143. 156. 148. 197.]\n",
      " [ inf  96.  52.   0. 104.  52.  52.  91. 104.  96. 170.]\n",
      " [ inf  66. 110. 104.   0.  52.  66. 105.  91.  52.  87.]\n",
      " [ inf 109.  87.  52.  52.   0.  44.  83.  96.  88. 139.]\n",
      " [ inf 132. 104.  52.  66.  44.   0.  39.  52.  44. 118.]\n",
      " [ inf 171. 143.  91. 105.  83.  39.   0.  44.  83. 110.]\n",
      " [ inf 157. 156. 104.  91.  96.  52.  44.   0.  39.  66.]\n",
      " [ inf 118. 148.  96.  52.  88.  44.  83.  39.   0.  79.]\n",
      " [ inf 153. 197. 170.  87. 139. 118. 110.  66.  79.   0.]]\n",
      "\n",
      "Shortest path tree from (e.g.) node 1:\n",
      "   (1, 2)\t44.0\n",
      "  (1, 4)\t66.0\n",
      "  (1, 5)\t109.0\n",
      "  (2, 3)\t52.0\n",
      "  (4, 6)\t66.0\n",
      "  (4, 9)\t52.0\n",
      "  (4, 10)\t87.0\n",
      "  (6, 7)\t39.0\n",
      "  (9, 8)\t39.0\n"
     ]
    }
   ],
   "source": [
    "(dist_matrix, predecessors) = csgraph.shortest_path(car_graph, directed=False, return_predecessors=True)\n",
    "print(\"Shortest paths between nodes:\\n\",dist_matrix)\n",
    "print(\"\\nShortest path tree from (e.g.) node 1:\\n\",\n",
    "      csgraph.reconstruct_path(car_graph, predecessors[1,:], directed = False))\n"
   ]
  },
  {
   "cell_type": "markdown",
   "metadata": {},
   "source": [
    "### Appendix L, Tables 20 and 21"
   ]
  },
  {
   "cell_type": "code",
   "execution_count": 19,
   "metadata": {},
   "outputs": [
    {
     "data": {
      "text/html": [
       "<div>\n",
       "<style scoped>\n",
       "    .dataframe tbody tr th:only-of-type {\n",
       "        vertical-align: middle;\n",
       "    }\n",
       "\n",
       "    .dataframe tbody tr th {\n",
       "        vertical-align: top;\n",
       "    }\n",
       "\n",
       "    .dataframe thead th {\n",
       "        text-align: right;\n",
       "    }\n",
       "</style>\n",
       "<table border=\"1\" class=\"dataframe\">\n",
       "  <thead>\n",
       "    <tr style=\"text-align: right;\">\n",
       "      <th></th>\n",
       "      <th>Daily (persons)</th>\n",
       "      <th>Peak (persons)</th>\n",
       "      <th>Daily (vehicles)</th>\n",
       "      <th>Peak (vehicles)</th>\n",
       "    </tr>\n",
       "  </thead>\n",
       "  <tbody>\n",
       "    <tr>\n",
       "      <td>1-2</td>\n",
       "      <td>66282</td>\n",
       "      <td>9942</td>\n",
       "      <td>35828</td>\n",
       "      <td>5374</td>\n",
       "    </tr>\n",
       "    <tr>\n",
       "      <td>1-4</td>\n",
       "      <td>56152</td>\n",
       "      <td>8423</td>\n",
       "      <td>30352</td>\n",
       "      <td>4553</td>\n",
       "    </tr>\n",
       "    <tr>\n",
       "      <td>1-5</td>\n",
       "      <td>2614</td>\n",
       "      <td>392</td>\n",
       "      <td>1413</td>\n",
       "      <td>212</td>\n",
       "    </tr>\n",
       "    <tr>\n",
       "      <td>2-3</td>\n",
       "      <td>86034</td>\n",
       "      <td>12905</td>\n",
       "      <td>46505</td>\n",
       "      <td>6976</td>\n",
       "    </tr>\n",
       "    <tr>\n",
       "      <td>2-5</td>\n",
       "      <td>17019</td>\n",
       "      <td>2553</td>\n",
       "      <td>9199</td>\n",
       "      <td>1380</td>\n",
       "    </tr>\n",
       "    <tr>\n",
       "      <td>3-5</td>\n",
       "      <td>52757</td>\n",
       "      <td>7914</td>\n",
       "      <td>28517</td>\n",
       "      <td>4278</td>\n",
       "    </tr>\n",
       "    <tr>\n",
       "      <td>3-6</td>\n",
       "      <td>86216</td>\n",
       "      <td>12932</td>\n",
       "      <td>46603</td>\n",
       "      <td>6990</td>\n",
       "    </tr>\n",
       "    <tr>\n",
       "      <td>4-5</td>\n",
       "      <td>56063</td>\n",
       "      <td>8409</td>\n",
       "      <td>30304</td>\n",
       "      <td>4546</td>\n",
       "    </tr>\n",
       "    <tr>\n",
       "      <td>4-6</td>\n",
       "      <td>27554</td>\n",
       "      <td>4133</td>\n",
       "      <td>14894</td>\n",
       "      <td>2234</td>\n",
       "    </tr>\n",
       "    <tr>\n",
       "      <td>4-9</td>\n",
       "      <td>40413</td>\n",
       "      <td>6062</td>\n",
       "      <td>21845</td>\n",
       "      <td>3277</td>\n",
       "    </tr>\n",
       "    <tr>\n",
       "      <td>4-10</td>\n",
       "      <td>17260</td>\n",
       "      <td>2589</td>\n",
       "      <td>9330</td>\n",
       "      <td>1399</td>\n",
       "    </tr>\n",
       "    <tr>\n",
       "      <td>5-6</td>\n",
       "      <td>87396</td>\n",
       "      <td>13109</td>\n",
       "      <td>47241</td>\n",
       "      <td>7086</td>\n",
       "    </tr>\n",
       "    <tr>\n",
       "      <td>6-7</td>\n",
       "      <td>112212</td>\n",
       "      <td>16832</td>\n",
       "      <td>60655</td>\n",
       "      <td>9098</td>\n",
       "    </tr>\n",
       "    <tr>\n",
       "      <td>6-8</td>\n",
       "      <td>59202</td>\n",
       "      <td>8880</td>\n",
       "      <td>32001</td>\n",
       "      <td>4800</td>\n",
       "    </tr>\n",
       "    <tr>\n",
       "      <td>6-9</td>\n",
       "      <td>76503</td>\n",
       "      <td>11475</td>\n",
       "      <td>41353</td>\n",
       "      <td>6203</td>\n",
       "    </tr>\n",
       "    <tr>\n",
       "      <td>7-8</td>\n",
       "      <td>45813</td>\n",
       "      <td>6872</td>\n",
       "      <td>24764</td>\n",
       "      <td>3715</td>\n",
       "    </tr>\n",
       "    <tr>\n",
       "      <td>8-9</td>\n",
       "      <td>54432</td>\n",
       "      <td>8165</td>\n",
       "      <td>29423</td>\n",
       "      <td>4413</td>\n",
       "    </tr>\n",
       "    <tr>\n",
       "      <td>8-10</td>\n",
       "      <td>25660</td>\n",
       "      <td>3849</td>\n",
       "      <td>13870</td>\n",
       "      <td>2081</td>\n",
       "    </tr>\n",
       "    <tr>\n",
       "      <td>9-10</td>\n",
       "      <td>6168</td>\n",
       "      <td>925</td>\n",
       "      <td>3334</td>\n",
       "      <td>500</td>\n",
       "    </tr>\n",
       "  </tbody>\n",
       "</table>\n",
       "</div>"
      ],
      "text/plain": [
       "      Daily (persons)  Peak (persons)  Daily (vehicles)  Peak (vehicles)\n",
       "1-2             66282            9942             35828             5374\n",
       "1-4             56152            8423             30352             4553\n",
       "1-5              2614             392              1413              212\n",
       "2-3             86034           12905             46505             6976\n",
       "2-5             17019            2553              9199             1380\n",
       "3-5             52757            7914             28517             4278\n",
       "3-6             86216           12932             46603             6990\n",
       "4-5             56063            8409             30304             4546\n",
       "4-6             27554            4133             14894             2234\n",
       "4-9             40413            6062             21845             3277\n",
       "4-10            17260            2589              9330             1399\n",
       "5-6             87396           13109             47241             7086\n",
       "6-7            112212           16832             60655             9098\n",
       "6-8             59202            8880             32001             4800\n",
       "6-9             76503           11475             41353             6203\n",
       "7-8             45813            6872             24764             3715\n",
       "8-9             54432            8165             29423             4413\n",
       "8-10            25660            3849             13870             2081\n",
       "9-10             6168             925              3334              500"
      ]
     },
     "execution_count": 19,
     "metadata": {},
     "output_type": "execute_result"
    }
   ],
   "source": [
    "# Assign traffic to links\n",
    "\n",
    "PEAK_RATIO = 0.15\n",
    "CAR_OCCUPANCY_RATIO = 1.85\n",
    "\n",
    "links = np.uint(gtc_matrix[:,0:2].copy())\n",
    "links = np.append(links, np.zeros((links.shape[0],4), dtype=np.uint), axis=1)\n",
    "\n",
    "flow = np.zeros_like(predecessors)\n",
    "\n",
    "(h,w) = car_share.shape\n",
    "\n",
    "for i in np.arange(h):\n",
    "    for j in np.arange(w):\n",
    "        numcars = np.uint(np.round(car_share[i,j]))\n",
    "        start_node = i+1 # precessors numbers according to node numbers\n",
    "        dest_node = j+1\n",
    "        while dest_node != start_node: # author ignores self-links so we do for now \n",
    "            predecessor = predecessors[start_node,dest_node]\n",
    "            flow[predecessor,dest_node] += numcars\n",
    "            dest_node = predecessor\n",
    "\n",
    "# put flow numbers and peak numbers into links array then dataframe\n",
    "linksastext = []\n",
    "for r in links:\n",
    "    s = r[0]\n",
    "    d = r[1]\n",
    "    r[2] = flow[s,d] + flow[d,s]\n",
    "    r[3] = np.uint(np.round(r[2]*PEAK_RATIO))\n",
    "    r[4] = np.uint(np.round(r[2]/CAR_OCCUPANCY_RATIO))\n",
    "    r[5] = np.uint(np.round(r[2]*PEAK_RATIO/CAR_OCCUPANCY_RATIO))\n",
    "    linksastext = np.append(linksastext,str(r[0])+\"-\"+str(r[1]))\n",
    "#print(links)\n",
    "\n",
    "car_summary = pd.DataFrame(data=links[:,2:],\n",
    "                           columns=[\"Daily (persons)\",\"Peak (persons)\",\"Daily (vehicles)\",\"Peak (vehicles)\"],\n",
    "                           index = linksastext\n",
    "                          )\n",
    "car_summary.head(links.shape[0])\n",
    "            "
   ]
  },
  {
   "cell_type": "markdown",
   "metadata": {},
   "source": [
    "NB: Paper has an error in the first total (1-2) in Appendix L. Table 20 is correct."
   ]
  },
  {
   "cell_type": "code",
   "execution_count": null,
   "metadata": {},
   "outputs": [],
   "source": []
  },
  {
   "cell_type": "code",
   "execution_count": null,
   "metadata": {},
   "outputs": [],
   "source": []
  },
  {
   "cell_type": "code",
   "execution_count": null,
   "metadata": {},
   "outputs": [],
   "source": []
  },
  {
   "cell_type": "markdown",
   "metadata": {},
   "source": [
    " ---- Old stuff ----"
   ]
  },
  {
   "cell_type": "code",
   "execution_count": null,
   "metadata": {},
   "outputs": [],
   "source": [
    "# Python implementation of their version of Appendix H - not used\n",
    "\n",
    "n = 10\n",
    "a = np.zeros(n)\n",
    "b = np.ones(n)\n",
    "oc = np.zeros(n)\n",
    "dc = np.zeros(n)\n",
    "diff = np.zeros(n)\n",
    "dif = np.zeros(n)\n",
    "di = np.zeros(n)\n",
    "\n",
    "td = trip_distribution\n",
    "\n",
    "orig = np.asarray(projected_trips.loc[:,'Production Trips'].values)\n",
    "print(\"orig:\", np.round(orig,0))\n",
    "dest = np.asarray(projected_trips.loc[:,'Attraction Trips'].values)\n",
    "print(\"dest:\", np.round(dest,0))\n",
    "\n",
    "not_converged = True\n",
    "\n",
    "while not_converged: \n",
    "    for i in np.arange(n):\n",
    "        oc[i] = 0;\n",
    "        for j in np.arange(n):\n",
    "            oc[i] = oc[i] + td[i,j] * b[j]  # weighted sum of td row\n",
    "        a[i] = orig[i]/oc[i]  # zone production total /  weighted sum#        \n",
    "        \n",
    "    for j in np.arange(n):\n",
    "        for i in np.arange(n):\n",
    "            td[i,j] = td[i,j]*a[i] # weighted sum of td column\n",
    "        \n",
    "    for j in np.arange(n):\n",
    "        dc[j] = 0;\n",
    "        for i in np.arange(n):\n",
    "            dc[j] = dc[j] + td[i,j]  # sum td column\n",
    "        b[j] = dest[j]/dc[j]  \n",
    "\n",
    "    for i in np.arange(n):\n",
    "        for j in np.arange(n):\n",
    "            td[i,j] = td[i,j] * b[j]\n",
    "\n",
    "    for i in np.arange(n):\n",
    "        oc[i] = 0;\n",
    "        for j in np.arange(n):\n",
    "            oc[i] = oc[i] + td[i,j]\n",
    "        diff[i] = orig[i] - oc[i]\n",
    "        dif[i] = diff[i]\n",
    "        di[i] = abs(dif[i])\n",
    "\n",
    "    not_converged = di[0]>1 or di[1]>1 or di[2]>1 or di[3]>1 or di[4]>1 or di[5]>1 or di[6]>1 or di[7]>1 or di[8]>1 or di[9]>1\n",
    "\n",
    "print(\"\\nOutput:\\n\")\n",
    "print(np.round(td,2))\n"
   ]
  },
  {
   "cell_type": "code",
   "execution_count": null,
   "metadata": {},
   "outputs": [],
   "source": []
  }
 ],
 "metadata": {
  "kernelspec": {
   "display_name": "Python 3",
   "language": "python",
   "name": "python3"
  },
  "language_info": {
   "codemirror_mode": {
    "name": "ipython",
    "version": 3
   },
   "file_extension": ".py",
   "mimetype": "text/x-python",
   "name": "python",
   "nbconvert_exporter": "python",
   "pygments_lexer": "ipython3",
   "version": "3.7.4"
  }
 },
 "nbformat": 4,
 "nbformat_minor": 4
}
