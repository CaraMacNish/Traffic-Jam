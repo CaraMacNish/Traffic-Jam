{
 "cells": [
  {
   "cell_type": "markdown",
   "metadata": {},
   "source": [
    "# Four Step Transport Model\n",
    "Verification of: \n",
    "\"The Traditional Four Steps Transportation Modeling Using Simplified Transport Network: A Case Study of Dhaka City, Bangladesh\", \n",
    "Bayes Ahmed"
   ]
  },
  {
   "cell_type": "code",
   "execution_count": 1,
   "metadata": {},
   "outputs": [],
   "source": [
    "# Load packages\n",
    "import numpy as np\n",
    "import pandas as pd\n",
    "from sklearn.linear_model import LinearRegression"
   ]
  },
  {
   "cell_type": "markdown",
   "metadata": {},
   "source": [
    "## 3.1 Trip Generation"
   ]
  },
  {
   "cell_type": "markdown",
   "metadata": {},
   "source": [
    "### Table 1"
   ]
  },
  {
   "cell_type": "code",
   "execution_count": 2,
   "metadata": {},
   "outputs": [
    {
     "name": "stdout",
     "output_type": "stream",
     "text": [
      "              Growth Rate\n",
      "Population            4.5\n",
      "Income Level         10.0\n",
      "Land Price           10.0\n",
      "Employment            2.5\n"
     ]
    }
   ],
   "source": [
    "growth_rates = pd.read_csv('growth_rates.csv', index_col=0)\n",
    "growth_rates.at['Land Price','Growth Rate'] = 10  # there is an error in the paper\n",
    "\n",
    "print(growth_rates)"
   ]
  },
  {
   "cell_type": "markdown",
   "metadata": {},
   "source": [
    "### Tables 2 and 3"
   ]
  },
  {
   "cell_type": "code",
   "execution_count": 3,
   "metadata": {},
   "outputs": [
    {
     "name": "stdout",
     "output_type": "stream",
     "text": [
      "Existing\n",
      "         Population  Average Income  Employment  Land Price  Production Trips  \\\n",
      "Zone1       116939            1931       51200         9.5            216709   \n",
      "Zone2       473490            2133      207202        20.0            873051   \n",
      "Zone3       376925            1980      153789        16.2            697517   \n",
      "Zone4       451756            4898      200848        15.8            776774   \n",
      "Zone5       484981            4920      177655        21.9            832492   \n",
      "Zone6       284057            3753      105783        12.7            502936   \n",
      "Zone7       467491            3202      165183         8.2            840124   \n",
      "Zone8       525673            3164      201377         6.5            945303   \n",
      "Zone9       325121            5280      128368        18.4            552647   \n",
      "Zone10      193302            4735       34699         9.0            333569   \n",
      "\n",
      "        Attraction Trips  \n",
      "Zone1             179200  \n",
      "Zone2             932409  \n",
      "Zone3             538262  \n",
      "Zone4            1205088  \n",
      "Zone5             977103  \n",
      "Zone6             528915  \n",
      "Zone7             578141  \n",
      "Zone8             604131  \n",
      "Zone9             641840  \n",
      "Zone10            190845  \n",
      "\n",
      "Projected (10 years)\n",
      "         Population  Average Income  Employment  Land Price  Production Trips  \\\n",
      "Zone1     181603.0          5009.0     65540.0        25.0                 0   \n",
      "Zone2     735315.0          5532.0    265236.0        52.0                 0   \n",
      "Zone3     585353.0          5136.0    196863.0        42.0                 0   \n",
      "Zone4     701563.0         12704.0    257102.0        41.0                 0   \n",
      "Zone5     753161.0         12761.0    227413.0        57.0                 0   \n",
      "Zone6     441132.0          9734.0    135411.0        33.0                 0   \n",
      "Zone7     725999.0          8305.0    211448.0        21.0                 0   \n",
      "Zone8     816354.0          8207.0    257780.0        17.0                 0   \n",
      "Zone9     504903.0         13695.0    164322.0        48.0                 0   \n",
      "Zone10    300192.0         12281.0     44418.0        23.0                 0   \n",
      "\n",
      "        Attraction Trips  \n",
      "Zone1                  0  \n",
      "Zone2                  0  \n",
      "Zone3                  0  \n",
      "Zone4                  0  \n",
      "Zone5                  0  \n",
      "Zone6                  0  \n",
      "Zone7                  0  \n",
      "Zone8                  0  \n",
      "Zone9                  0  \n",
      "Zone10                 0  \n"
     ]
    }
   ],
   "source": [
    "existing = pd.read_csv('demographics.csv', index_col=0)\n",
    "#existing = existing.rename(columns = {\"Average Zonal Income\": \"Income\"}) # just because its a bit unweildy\n",
    "\n",
    "print(\"Existing\\n\",existing)\n",
    "\n",
    "projected = existing.copy()\n",
    "\n",
    "projected['Population'] = round(existing['Population'] * (1+growth_rates.at['Population','Growth Rate']/100)**10)\n",
    "projected['Average Income'] = round(existing['Average Income'] * (1+growth_rates.at['Income Level','Growth Rate']/100)**10)\n",
    "projected['Employment'] = round(existing['Employment'] * (1+growth_rates.at['Employment','Growth Rate']/100)**10)\n",
    "projected['Land Price'] = round(existing['Land Price'] * (1+growth_rates.at['Land Price','Growth Rate']/100)**10)\n",
    "projected['Production Trips'] = 0\n",
    "projected['Attraction Trips'] = 0\n",
    "\n",
    "print(\"\\nProjected (10 years)\\n\",projected)"
   ]
  },
  {
   "cell_type": "markdown",
   "metadata": {},
   "source": [
    "Note that the author appears to round differently. If they then use these integer values, this may explain the small\n",
    "differences below."
   ]
  },
  {
   "cell_type": "markdown",
   "metadata": {},
   "source": [
    "### Regression Equation for Production"
   ]
  },
  {
   "cell_type": "code",
   "execution_count": 4,
   "metadata": {},
   "outputs": [
    {
     "name": "stdout",
     "output_type": "stream",
     "text": [
      "Coefficients : [  1.7967 -15.7301]\n",
      "Intercept: 49021.099\n"
     ]
    }
   ],
   "source": [
    "p_regressor = LinearRegression()\n",
    "X = existing.loc[:,'Population':'Average Income'].values\n",
    "y = existing.loc[:,'Production Trips'].values\n",
    "p_regressor.fit(X,y)\n",
    "print(\"Coefficients :\",np.round(p_regressor.coef_,4))\n",
    "print(\"Intercept:\", np.round(p_regressor.intercept_,4))\n"
   ]
  },
  {
   "cell_type": "markdown",
   "metadata": {},
   "source": [
    "### Regression Equation for Attraction"
   ]
  },
  {
   "cell_type": "code",
   "execution_count": 5,
   "metadata": {},
   "outputs": [
    {
     "name": "stdout",
     "output_type": "stream",
     "text": [
      "Coefficients : [3.68690000e+00 2.30061145e+04]\n",
      "Intercept: -206147.9217\n"
     ]
    }
   ],
   "source": [
    "a_regressor = LinearRegression()\n",
    "X = existing.loc[:,'Employment':'Land Price'].values\n",
    "y = existing.loc[:,'Attraction Trips'].values\n",
    "a_regressor.fit(X,y)\n",
    "print(\"Coefficients :\",np.round(a_regressor.coef_,4))\n",
    "print(\"Intercept:\", np.round(a_regressor.intercept_,4))\n"
   ]
  },
  {
   "cell_type": "markdown",
   "metadata": {},
   "source": [
    "### Table 4"
   ]
  },
  {
   "cell_type": "code",
   "execution_count": 6,
   "metadata": {},
   "outputs": [
    {
     "name": "stdout",
     "output_type": "stream",
     "text": [
      "Projected (10 years) - unadjusted\n",
      "         Production Trips  Attraction Trips\n",
      "Zone1           296506.0          610647.0\n",
      "Zone2          1283106.0         1968081.0\n",
      "Zone3          1019906.0         1485932.0\n",
      "Zone4          1109650.0         1685024.0\n",
      "Zone5          1201457.0         1943660.0\n",
      "Zone6           688465.0         1052307.0\n",
      "Zone7          1222749.0         1056578.0\n",
      "Zone8          1386627.0         1135377.0\n",
      "Zone9           740732.0         1503992.0\n",
      "Zone10          395180.0          486759.0\n"
     ]
    }
   ],
   "source": [
    "projected_trips = projected.loc[:,'Production Trips':'Attraction Trips']\n",
    "\n",
    "X = projected.loc[:,'Population':'Average Income'].values\n",
    "projected_trips.loc[:,'Production Trips'] = p_regressor.predict(X)\n",
    "\n",
    "X = projected.loc[:,'Employment':'Land Price'].values\n",
    "projected_trips.loc[:,'Attraction Trips'] = a_regressor.predict(X)\n",
    "\n",
    "print(\"Projected (10 years) - unadjusted\\n\",round(projected_trips))\n"
   ]
  },
  {
   "cell_type": "markdown",
   "metadata": {},
   "source": [
    "## 3.2 Trip Distribution"
   ]
  },
  {
   "cell_type": "code",
   "execution_count": 7,
   "metadata": {},
   "outputs": [
    {
     "name": "stdout",
     "output_type": "stream",
     "text": [
      "Adjustment factor: 0.723\n",
      "\n",
      "Projected (10 years)\n",
      "         Production Trips  Attraction Trips\n",
      "Zone1           296506.0          441365.0\n",
      "Zone2          1283106.0         1422492.0\n",
      "Zone3          1019906.0         1074004.0\n",
      "Zone4          1109650.0         1217904.0\n",
      "Zone5          1201457.0         1404842.0\n",
      "Zone6           688465.0          760588.0\n",
      "Zone7          1222749.0          763675.0\n",
      "Zone8          1386627.0          820629.0\n",
      "Zone9           740732.0         1087058.0\n",
      "Zone10          395180.0          351821.0\n"
     ]
    }
   ],
   "source": [
    "adjustment_factor = np.sum(projected_trips.loc[:,'Production Trips'])/np.sum(projected_trips.loc[:,'Attraction Trips'])\n",
    "print('Adjustment factor:', np.round(adjustment_factor,3))\n",
    "\n",
    "projected_trips.loc[:,'Attraction Trips'] = projected_trips.loc[:,'Attraction Trips'] * adjustment_factor\n",
    "print(\"\\nProjected (10 years)\\n\",round(projected_trips))\n",
    "\n",
    "\n"
   ]
  },
  {
   "cell_type": "markdown",
   "metadata": {},
   "source": [
    "### Table 7"
   ]
  },
  {
   "cell_type": "code",
   "execution_count": 8,
   "metadata": {},
   "outputs": [
    {
     "name": "stdout",
     "output_type": "stream",
     "text": [
      "[[ 8. 10. 20. 15. 25. 22. 28. 30. 25. 35.]\n",
      " [10.  8. 12. 15. 20. 17. 25. 26. 22. 32.]\n",
      " [20. 12.  8. 20. 12. 12. 15. 25. 23. 30.]\n",
      " [15. 15. 20.  8. 12. 15. 20. 22. 12. 20.]\n",
      " [26. 20. 10. 12.  8. 10. 15. 17. 15. 22.]\n",
      " [22. 17. 12. 15. 10.  8.  9. 12. 10. 20.]\n",
      " [28. 25. 15. 20. 15.  9.  8. 10. 11. 17.]\n",
      " [30. 26. 25. 22. 17. 12. 10.  8.  9. 15.]\n",
      " [25. 22. 23. 12. 15. 10. 11.  9.  8. 18.]\n",
      " [15. 32. 30. 20. 22. 20. 17. 15. 18.  8.]]\n"
     ]
    }
   ],
   "source": [
    "cost_matrix = np.genfromtxt('cost_matrix.csv', delimiter=',')\n",
    "print(cost_matrix)\n",
    "\n",
    "#beta = 0.1 # assumed in the paper\n",
    "#impedance_matrix = np.exp(-1*beta*cost_matrix)\n",
    "#print(impedance_matrix)"
   ]
  },
  {
   "cell_type": "markdown",
   "metadata": {},
   "source": [
    "I thought the cost matrix was symmetric but its not. This looks like it might be an error in the paper (eg. the 15 in Zone 10 to Zone 1). However they use it going forward, so we do too."
   ]
  },
  {
   "cell_type": "markdown",
   "metadata": {},
   "source": [
    "### Table 8"
   ]
  },
  {
   "cell_type": "code",
   "execution_count": 9,
   "metadata": {},
   "outputs": [
    {
     "name": "stdout",
     "output_type": "stream",
     "text": [
      "[[0.449 0.368 0.135 0.223 0.082 0.111 0.061 0.05  0.082 0.03 ]\n",
      " [0.368 0.449 0.301 0.223 0.135 0.183 0.082 0.074 0.111 0.041]\n",
      " [0.135 0.301 0.449 0.135 0.301 0.301 0.223 0.082 0.1   0.05 ]\n",
      " [0.223 0.223 0.135 0.449 0.301 0.223 0.135 0.111 0.301 0.135]\n",
      " [0.074 0.135 0.368 0.301 0.449 0.368 0.223 0.183 0.223 0.111]\n",
      " [0.111 0.183 0.301 0.223 0.368 0.449 0.407 0.301 0.368 0.135]\n",
      " [0.061 0.082 0.223 0.135 0.223 0.407 0.449 0.368 0.333 0.183]\n",
      " [0.05  0.074 0.082 0.111 0.183 0.301 0.368 0.449 0.407 0.223]\n",
      " [0.082 0.111 0.1   0.301 0.223 0.368 0.333 0.407 0.449 0.165]\n",
      " [0.223 0.041 0.05  0.135 0.111 0.135 0.183 0.223 0.165 0.449]]\n"
     ]
    }
   ],
   "source": [
    "beta = 0.1 # assumed in the paper\n",
    "impedance_matrix = np.exp(-1*beta*cost_matrix)\n",
    "print(np.round(impedance_matrix,3))"
   ]
  },
  {
   "cell_type": "markdown",
   "metadata": {},
   "source": [
    "### Table 9"
   ]
  },
  {
   "cell_type": "code",
   "execution_count": 10,
   "metadata": {},
   "outputs": [
    {
     "name": "stdout",
     "output_type": "stream",
     "text": [
      "Sum of impedence factor: 22.123885340388867\n",
      "Total trips: 9344378.026069807\n",
      "\n",
      "Unadjusted trip distribution:\n",
      "[[189781. 155380.  57161.  94243.  34670.  46799.  25684.  21028.  34670.\n",
      "   12754.]\n",
      " [155380. 189781. 127214.  94243.  57161.  77159.  34670.  31371.  46799.\n",
      "   17217.]\n",
      " [ 57161. 127214. 189781.  57161. 127214. 127214.  94243.  34670.  42346.\n",
      "   21028.]\n",
      " [ 94243.  94243.  57161. 189781. 127214.  94243.  57161.  46799. 127214.\n",
      "   57161.]\n",
      " [ 31371.  57161. 155380. 127214. 189781. 155380.  94243.  77159.  94243.\n",
      "   46799.]\n",
      " [ 46799.  77159. 127214.  94243. 155380. 189781. 171721. 127214. 155380.\n",
      "   57161.]\n",
      " [ 25684.  34670.  94243.  57161.  94243. 171721. 189781. 155380. 140593.\n",
      "   77159.]\n",
      " [ 21028.  31371.  34670.  46799.  77159. 127214. 155380. 189781. 171721.\n",
      "   94243.]\n",
      " [ 34670.  46799.  42346. 127214.  94243. 155380. 140593. 171721. 189781.\n",
      "   69817.]\n",
      " [ 94243.  17217.  21028.  57161.  46799.  57161.  77159.  94243.  69817.\n",
      "  189781.]]\n"
     ]
    }
   ],
   "source": [
    "sum_impedence = np.sum(impedance_matrix)\n",
    "print(\"Sum of impedence factor:\", sum_impedence)\n",
    "\n",
    "total_trips = np.sum(projected_trips.loc[:,'Production Trips'].values)\n",
    "print(\"Total trips:\", total_trips)\n",
    "\n",
    "trip_distribution = impedance_matrix * total_trips / sum_impedence\n",
    "print(\"\\nUnadjusted trip distribution:\")\n",
    "print(np.round(trip_distribution,0))\n"
   ]
  },
  {
   "cell_type": "markdown",
   "metadata": {},
   "source": [
    "### Appendix H (Magic C program)"
   ]
  },
  {
   "cell_type": "code",
   "execution_count": 28,
   "metadata": {},
   "outputs": [
    {
     "name": "stdout",
     "output_type": "stream",
     "text": [
      "orig: [ 296506. 1283106. 1019906. 1109650. 1201457.  688465. 1222749. 1386627.\n",
      "  740732.  395180.]\n",
      "dest: [ 441365. 1422492. 1074004. 1217904. 1404842.  760588.  763675.  820629.\n",
      " 1087058.  351821.]\n",
      "296506.23173616565\n",
      "[[ 49956.82 108886.18  26274.51  50177.77  19105.31  11553.39   7241.32\n",
      "    6881.37  13588.03   2841.53]\n",
      " [139831.26 454673.88 199911.85 171545.66 107688.57  65121.59  33417.55\n",
      "   35096.28  62706.59  13113.19]\n",
      " [ 40113.55 237664.04 232561.38  81136.03 186890.17  83724.69  70835.41\n",
      "   30246.27  44245.09  12489.6 ]\n",
      " [ 67875.92 180697.68  71888.87 276467.82 191806.77  63656.48  44094.11\n",
      "   41902.27 136416.35  34843.39]\n",
      " [ 23094.92 112028.9  199747.28 189431.2  292486.91 107278.97  74310.91\n",
      "   70617.04 103300.59  29159.91]\n",
      " [ 17999.61  79003.65  85437.94  73314.85 125105.47  68454.54  70738.86\n",
      "   60825.48  88977.21  18606.89]\n",
      " [ 21999.18  79055.44 140955.68  99029.56 168985.42 137940.88 174103.56\n",
      "  165449.18 179295.56  55934.84]\n",
      " [ 22809.26  90587.    65667.68 102676.14 175207.99 129410.11 180514.59\n",
      "  255909.89 277326.89  86517.67]\n",
      " [ 16684.29  59956.03  35584.41 123826.4   94942.8   70125.56  72465.63\n",
      "  102732.26 135978.63  28435.82]\n",
      " [ 40999.83  19939.68  15974.73  50298.78  42622.19  23321.78  35953.01\n",
      "   50969.45  45222.65  69877.93]]\n"
     ]
    }
   ],
   "source": [
    "# My version\n",
    "\n",
    "n = 10\n",
    "a = np.zeros(n)\n",
    "b = np.ones(n)\n",
    "oc = np.zeros(n)\n",
    "dc = np.zeros(n)\n",
    "diff = np.zeros(n)\n",
    "dif = np.zeros(n)\n",
    "di = np.zeros(n)\n",
    "\n",
    "td = trip_distribution\n",
    "\n",
    "orig = np.asarray(projected_trips.loc[:,'Production Trips'].values)\n",
    "print(\"orig:\", np.round(orig,0))\n",
    "dest = np.asarray(projected_trips.loc[:,'Attraction Trips'].values)\n",
    "print(\"dest:\", np.round(dest,0))\n",
    "\n",
    "print(np.sum(td[0,:]))\n",
    "\n",
    "not_converged = True\n",
    "\n",
    "while not_converged: \n",
    "    for i in np.arange(n):\n",
    "        oc[i] = np.sum(td[i,:] * b) # weighted sum of trip distance row\n",
    "        a[i] = orig[i]/oc[i]  # ratio zone production total /  weighted sum        \n",
    "    \n",
    "    for j in np.arange(n):\n",
    "             td[:,j] = td[:,j]*a # multiply ratio down column\n",
    "\n",
    "    for j in np.arange(n):\n",
    "        dc[j] = 0;\n",
    "        for i in np.arange(n):\n",
    "            dc[j] = dc[j] + td[i,j]  # sum td column\n",
    "        b[j] = dest[j]/dc[j]  \n",
    "\n",
    "    for i in np.arange(n):\n",
    "        for j in np.arange(n):\n",
    "            td[i,j] = td[i,j] * b[j]\n",
    "\n",
    "    for i in np.arange(n):\n",
    "        oc[i] = 0;\n",
    "        for j in np.arange(n):\n",
    "            oc[i] = oc[i] + td[i,j]\n",
    "        diff[i] = orig[i] - oc[i]\n",
    "        dif[i] = diff[i]\n",
    "        di[i] = abs(dif[i])\n",
    "\n",
    "    not_converged = di[0]>1 or di[1]>1 or di[2]>1 or di[3]>1 or di[4]>1 or di[5]>1 or di[6]>1 or di[7]>1 or di[8]>1 or di[9]>1\n",
    "\n",
    "print(np.round(td,2))\n"
   ]
  },
  {
   "cell_type": "code",
   "execution_count": 24,
   "metadata": {},
   "outputs": [
    {
     "name": "stdout",
     "output_type": "stream",
     "text": [
      "orig: [ 296506. 1283106. 1019906. 1109650. 1201457.  688465. 1222749. 1386627.\n",
      "  740732.  395180.]\n",
      "dest: [ 441365. 1422492. 1074004. 1217904. 1404842.  760588.  763675.  820629.\n",
      " 1087058.  351821.]\n",
      "296506.222377414\n",
      "[[ 49956.82 108886.18  26274.51  50177.77  19105.31  11553.39   7241.32\n",
      "    6881.37  13588.03   2841.53]\n",
      " [139831.26 454673.87 199911.85 171545.65 107688.57  65121.59  33417.55\n",
      "   35096.28  62706.59  13113.19]\n",
      " [ 40113.55 237664.04 232561.38  81136.03 186890.17  83724.69  70835.41\n",
      "   30246.27  44245.08  12489.6 ]\n",
      " [ 67875.92 180697.68  71888.87 276467.82 191806.77  63656.48  44094.11\n",
      "   41902.27 136416.35  34843.39]\n",
      " [ 23094.92 112028.9  199747.28 189431.2  292486.91 107278.97  74310.91\n",
      "   70617.04 103300.59  29159.91]\n",
      " [ 17999.61  79003.65  85437.94  73314.85 125105.47  68454.54  70738.86\n",
      "   60825.48  88977.21  18606.89]\n",
      " [ 21999.18  79055.44 140955.68  99029.56 168985.42 137940.88 174103.56\n",
      "  165449.18 179295.56  55934.84]\n",
      " [ 22809.26  90587.    65667.68 102676.14 175207.99 129410.11 180514.59\n",
      "  255909.89 277326.89  86517.67]\n",
      " [ 16684.29  59956.03  35584.41 123826.4   94942.8   70125.56  72465.63\n",
      "  102732.26 135978.63  28435.82]\n",
      " [ 40999.83  19939.68  15974.73  50298.78  42622.19  23321.78  35953.01\n",
      "   50969.45  45222.65  69877.93]]\n"
     ]
    }
   ],
   "source": [
    "n = 10\n",
    "a = np.zeros(n)\n",
    "b = np.ones(n)\n",
    "oc = np.zeros(n)\n",
    "dc = np.zeros(n)\n",
    "diff = np.zeros(n)\n",
    "dif = np.zeros(n)\n",
    "di = np.zeros(n)\n",
    "\n",
    "td = trip_distribution\n",
    "\n",
    "orig = np.asarray(projected_trips.loc[:,'Production Trips'].values)\n",
    "print(\"orig:\", np.round(orig,0))\n",
    "dest = np.asarray(projected_trips.loc[:,'Attraction Trips'].values)\n",
    "print(\"dest:\", np.round(dest,0))\n",
    "\n",
    "print(np.sum(td[0,:]))\n",
    "\n",
    "not_converged = True\n",
    "\n",
    "while not_converged: \n",
    "    for i in np.arange(n):\n",
    "        oc[i] = 0;\n",
    "        for j in np.arange(n):\n",
    "            oc[i] = oc[i] + td[i,j] * b[j]  # weighted sum of td row\n",
    "        a[i] = orig[i]/oc[i]  # zone production total /  weighted sum#        \n",
    "\n",
    "    for j in np.arange(n):\n",
    "        for i in np.arange(n):\n",
    "            td[i,j] = td[i,j]*a[i] # weighted sum of td column\n",
    "\n",
    "    for j in np.arange(n):\n",
    "        dc[j] = 0;\n",
    "        for i in np.arange(n):\n",
    "            dc[j] = dc[j] + td[i,j]  # sum td column\n",
    "        b[j] = dest[j]/dc[j]  \n",
    "\n",
    "    for i in np.arange(n):\n",
    "        for j in np.arange(n):\n",
    "            td[i,j] = td[i,j] * b[j]\n",
    "\n",
    "    for i in np.arange(n):\n",
    "        oc[i] = 0;\n",
    "        for j in np.arange(n):\n",
    "            oc[i] = oc[i] + td[i,j]\n",
    "        diff[i] = orig[i] - oc[i]\n",
    "        dif[i] = diff[i]\n",
    "        di[i] = abs(dif[i])\n",
    "\n",
    "    not_converged = di[0]>1 or di[1]>1 or di[2]>1 or di[3]>1 or di[4]>1 or di[5]>1 or di[6]>1 or di[7]>1 or di[8]>1 or di[9]>1\n",
    "\n",
    "print(np.round(td,2))\n"
   ]
  },
  {
   "cell_type": "code",
   "execution_count": null,
   "metadata": {},
   "outputs": [],
   "source": []
  },
  {
   "cell_type": "code",
   "execution_count": null,
   "metadata": {},
   "outputs": [],
   "source": []
  },
  {
   "cell_type": "code",
   "execution_count": 37,
   "metadata": {},
   "outputs": [
    {
     "name": "stdout",
     "output_type": "stream",
     "text": [
      "    0     1     2     3     4     5     6     7     8    9\n",
      "0   8   NaN   NaN   NaN   NaN   NaN   NaN   NaN   NaN  NaN\n",
      "1  10   8.0   NaN   NaN   NaN   NaN   NaN   NaN   NaN  NaN\n",
      "2  20  12.0   8.0   NaN   NaN   NaN   NaN   NaN   NaN  NaN\n",
      "3  15  15.0  20.0   8.0   NaN   NaN   NaN   NaN   NaN  NaN\n",
      "4  26  20.0  10.0  12.0   8.0   NaN   NaN   NaN   NaN  NaN\n",
      "5  22  17.0  12.0  15.0  10.0   8.0   NaN   NaN   NaN  NaN\n",
      "6  28  25.0  15.0  20.0  15.0   9.0   8.0   NaN   NaN  NaN\n",
      "7  30  26.0  25.0  22.0  17.0  12.0  10.0   8.0   NaN  NaN\n",
      "8  25  22.0  23.0  12.0  15.0  10.0  11.0   9.0   8.0  NaN\n",
      "9  15  32.0  30.0  20.0  22.0  20.0  17.0  15.0  18.0  8.0\n",
      "    0     1     2     3     4     5     6     7     8     9\n",
      "0   8  10.0  20.0  15.0  26.0  22.0  28.0  30.0  25.0  15.0\n",
      "1  10   8.0  12.0  15.0  20.0  17.0  25.0  26.0  22.0  32.0\n",
      "2  20  12.0   8.0  20.0  10.0  12.0  15.0  25.0  23.0  30.0\n",
      "3  15  15.0  20.0   8.0  12.0  15.0  20.0  22.0  12.0  20.0\n",
      "4  26  20.0  10.0  12.0   8.0  10.0  15.0  17.0  15.0  22.0\n",
      "5  22  17.0  12.0  15.0  10.0   8.0   9.0  12.0  10.0  20.0\n",
      "6  28  25.0  15.0  20.0  15.0   9.0   8.0  10.0  11.0  17.0\n",
      "7  30  26.0  25.0  22.0  17.0  12.0  10.0   8.0   9.0  15.0\n",
      "8  25  22.0  23.0  12.0  15.0  10.0  11.0   9.0   8.0  18.0\n",
      "9  15  32.0  30.0  20.0  22.0  20.0  17.0  15.0  18.0   8.0\n"
     ]
    }
   ],
   "source": [
    "cost_matrix = pd.read_csv('cost_matrix.csv', names=list(range(10)))\n",
    "print(cost_matrix)\n",
    "for i in np.arange(10):\n",
    "    for j in np.arange(1,10):\n",
    "        cost_matrix.iat[i,j] = cost_matrix.iat[j,i]\n",
    "print(cost_matrix)"
   ]
  },
  {
   "cell_type": "code",
   "execution_count": null,
   "metadata": {},
   "outputs": [],
   "source": []
  }
 ],
 "metadata": {
  "kernelspec": {
   "display_name": "Python 3",
   "language": "python",
   "name": "python3"
  },
  "language_info": {
   "codemirror_mode": {
    "name": "ipython",
    "version": 3
   },
   "file_extension": ".py",
   "mimetype": "text/x-python",
   "name": "python",
   "nbconvert_exporter": "python",
   "pygments_lexer": "ipython3",
   "version": "3.6.5"
  }
 },
 "nbformat": 4,
 "nbformat_minor": 4
}
